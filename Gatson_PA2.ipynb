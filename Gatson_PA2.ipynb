{
 "cells": [
  {
   "cell_type": "markdown",
   "id": "569911fd-1a07-42e8-9cea-e05d77795f67",
   "metadata": {},
   "source": [
    "PROBLEM 1"
   ]
  },
  {
   "cell_type": "code",
   "execution_count": 9,
   "id": "cc1bf5af-920d-49d7-9001-c958e40c8021",
   "metadata": {},
   "outputs": [],
   "source": [
    "import numpy as np"
   ]
  },
  {
   "cell_type": "code",
   "execution_count": 10,
   "id": "912aaab3-eccc-45b8-a384-40746f0b5320",
   "metadata": {},
   "outputs": [
    {
     "name": "stdout",
     "output_type": "stream",
     "text": [
      "[[ 0.01577004  0.04131912 -0.60201631 -1.26258665  0.77612898]\n",
      " [ 1.38216273 -1.12644608 -0.33855934  0.0040262   1.10483695]\n",
      " [ 1.46353428  1.35168495 -1.95527829  0.55459374  0.05237159]\n",
      " [ 0.55954526 -0.98734067 -1.41591235  1.01839221 -0.2046042 ]\n",
      " [-0.88325296  0.90095542  1.22137269 -1.53219796 -0.13849936]]\n"
     ]
    }
   ],
   "source": [
    "x = np.random.random([5,5])\n",
    "\n",
    "y = x.mean()\n",
    "z = x.std()\n",
    "\n",
    "norm = (x-y)/z\n",
    "print(norm)"
   ]
  },
  {
   "cell_type": "markdown",
   "id": "c61713ff-959d-4483-a06a-7fda5b5f8667",
   "metadata": {},
   "source": [
    "PROBLEM 2"
   ]
  },
  {
   "cell_type": "code",
   "execution_count": 11,
   "id": "2813b642-4354-4c1e-9ead-be3923c93b09",
   "metadata": {},
   "outputs": [
    {
     "name": "stdout",
     "output_type": "stream",
     "text": [
      "Array of squares: \n",
      " [[    1     4     9    16    25    36    49    64    81   100]\n",
      " [  121   144   169   196   225   256   289   324   361   400]\n",
      " [  441   484   529   576   625   676   729   784   841   900]\n",
      " [  961  1024  1089  1156  1225  1296  1369  1444  1521  1600]\n",
      " [ 1681  1764  1849  1936  2025  2116  2209  2304  2401  2500]\n",
      " [ 2601  2704  2809  2916  3025  3136  3249  3364  3481  3600]\n",
      " [ 3721  3844  3969  4096  4225  4356  4489  4624  4761  4900]\n",
      " [ 5041  5184  5329  5476  5625  5776  5929  6084  6241  6400]\n",
      " [ 6561  6724  6889  7056  7225  7396  7569  7744  7921  8100]\n",
      " [ 8281  8464  8649  8836  9025  9216  9409  9604  9801 10000]]\n",
      "\n",
      "Elements divisible by 3: \n",
      " [   9   36   81  144  225  324  441  576  729  900 1089 1296 1521 1764\n",
      " 2025 2304 2601 2916 3249 3600 3969 4356 4761 5184 5625 6084 6561 7056\n",
      " 7569 8100 8649 9216 9801]\n",
      "\n",
      "Number of elements divisible by 3: 33\n"
     ]
    }
   ],
   "source": [
    "A = np.arange(1, 101).reshape(10, 10)**2\n",
    "\n",
    "div_by_3 = A[A % 3 == 0]\n",
    "\n",
    "print(\"Array of squares: \\n\", A)\n",
    "print(\"\\nElements divisible by 3: \\n\", div_by_3)\n",
    "print(\"\\nNumber of elements divisible by 3:\", div_by_3.size)"
   ]
  },
  {
   "cell_type": "code",
   "execution_count": null,
   "id": "c98179d2-3e23-4206-a9d4-97e291a5ca1c",
   "metadata": {},
   "outputs": [],
   "source": []
  }
 ],
 "metadata": {
  "kernelspec": {
   "display_name": "anaconda-2024.02-py310",
   "language": "python",
   "name": "conda-env-anaconda-2024.02-py310-py"
  },
  "language_info": {
   "codemirror_mode": {
    "name": "ipython",
    "version": 3
   },
   "file_extension": ".py",
   "mimetype": "text/x-python",
   "name": "python",
   "nbconvert_exporter": "python",
   "pygments_lexer": "ipython3",
   "version": "3.10.14"
  }
 },
 "nbformat": 4,
 "nbformat_minor": 5
}
